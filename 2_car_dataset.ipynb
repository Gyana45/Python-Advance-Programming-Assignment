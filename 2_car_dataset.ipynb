{
 "cells": [
  {
   "cell_type": "markdown",
   "id": "c39199e5",
   "metadata": {},
   "source": [
    "# car data set operations"
   ]
  },
  {
   "cell_type": "code",
   "execution_count": 6,
   "id": "c71961c5",
   "metadata": {},
   "outputs": [],
   "source": [
    "#1.take data\n",
    "#2.create database called as cardataset\n",
    "#3.create a table called as car with a column name given in dataset description\n",
    "#4.dump all the data into car table\n",
    "#5.try to check whether all the data is available inside ur table or not\n",
    "#6.try to group all the data with col1 AND count occurance of each and every records based on cal1 value\n",
    "#7.try to filter a record where col3 value will be 4\n",
    "#8.try to update col3 value with 8 wherever u have value equal to 2\n",
    "#9.try to delete table\n",
    "#10.try to delete database\n"
   ]
  },
  {
   "cell_type": "code",
   "execution_count": null,
   "id": "f4d194e0",
   "metadata": {},
   "outputs": [],
   "source": []
  },
  {
   "cell_type": "code",
   "execution_count": 1,
   "id": "d11b5cd0",
   "metadata": {},
   "outputs": [],
   "source": [
    "import mysql.connector as conn\n",
    "\n",
    "mydb=conn.connect(host='localhost',user='root',password='123456789')\n",
    "\n",
    "cursor=mydb.cursor()"
   ]
  },
  {
   "cell_type": "code",
   "execution_count": 3,
   "id": "e5d05e43",
   "metadata": {},
   "outputs": [],
   "source": [
    "#2.create database called as \"cardataset\""
   ]
  },
  {
   "cell_type": "code",
   "execution_count": 4,
   "id": "da346e11",
   "metadata": {},
   "outputs": [],
   "source": [
    "cursor.execute('create database Cardataset')"
   ]
  },
  {
   "cell_type": "code",
   "execution_count": 2,
   "id": "b516c478",
   "metadata": {},
   "outputs": [
    {
     "data": {
      "text/plain": [
       "[('Cardataset',),\n",
       " ('information_schema',),\n",
       " ('mysql',),\n",
       " ('performance_schema',),\n",
       " ('sys',),\n",
       " ('test',)]"
      ]
     },
     "execution_count": 2,
     "metadata": {},
     "output_type": "execute_result"
    }
   ],
   "source": [
    "cursor.execute('show databases')\n",
    "cursor.fetchall()"
   ]
  },
  {
   "cell_type": "code",
   "execution_count": 3,
   "id": "512956dd",
   "metadata": {},
   "outputs": [],
   "source": [
    "#3.create a table called as car with a column name given in dataset description\n",
    "\n",
    "cursor.execute('use Cardataset')\n",
    "query_create_table='''create table Cardataset.Car(\n",
    "                                        Col1 varchar(30),\n",
    "                                        Col2 varchar(30),\n",
    "                                        Col3 varchar(30),\n",
    "                                        Col4 varchar(30),\n",
    "                                        Col5 varchar(30),\n",
    "                                        Col6 varchar(30),\n",
    "                                        Col7 varchar(30))\n",
    "                    '''\n",
    "\n",
    "cursor.execute(query_create_table)"
   ]
  },
  {
   "cell_type": "code",
   "execution_count": 5,
   "id": "549f4c6f",
   "metadata": {},
   "outputs": [
    {
     "data": {
      "text/plain": [
       "[('Car',)]"
      ]
     },
     "execution_count": 5,
     "metadata": {},
     "output_type": "execute_result"
    }
   ],
   "source": [
    "#tables in Cardataset db\n",
    "cursor.execute('show tables')\n",
    "cursor.fetchall()"
   ]
  },
  {
   "cell_type": "code",
   "execution_count": 22,
   "id": "02bd722f",
   "metadata": {},
   "outputs": [],
   "source": [
    "#4.dump all the data into car table\n",
    "import csv\n",
    "\n",
    "with open('car.data','r') as f:\n",
    "    data=csv.reader(f,delimiter='\\n')\n",
    "    for i in data:\n",
    "        \n",
    "        i=tuple(i[0].split(','))\n",
    "        query_insert=f'''insert into Cardataset.Car values{(i)}'''\n",
    "        #print(query_insert)\n",
    "        cursor.execute(query_insert)\n",
    "        \n",
    "    mydb.commit()    \n",
    "    "
   ]
  },
  {
   "cell_type": "code",
   "execution_count": 23,
   "id": "e77291a9",
   "metadata": {},
   "outputs": [
    {
     "data": {
      "text/plain": [
       "[(1728,)]"
      ]
     },
     "execution_count": 23,
     "metadata": {},
     "output_type": "execute_result"
    }
   ],
   "source": [
    "#5.try to check whether all the data is available inside ur table or not\n",
    "\n",
    "\n",
    "cursor.execute('select count(*) from Cardataset.Car')\n",
    "cursor.fetchall()"
   ]
  },
  {
   "cell_type": "code",
   "execution_count": 25,
   "id": "5384d0d7",
   "metadata": {},
   "outputs": [
    {
     "data": {
      "text/plain": [
       "[(432, 'vhigh'), (432, 'high'), (432, 'med'), (432, 'low')]"
      ]
     },
     "execution_count": 25,
     "metadata": {},
     "output_type": "execute_result"
    }
   ],
   "source": [
    "#6.try to group all the data with col1 AND count occurance of each and every records based on cal1 value\n",
    "\n",
    "query_group='''select count(*),col1 from Cardataset.Car group by col1'''\n",
    "\n",
    "cursor.execute(query_group)\n",
    "cursor.fetchall()"
   ]
  },
  {
   "cell_type": "code",
   "execution_count": 33,
   "id": "786b1824",
   "metadata": {},
   "outputs": [
    {
     "data": {
      "text/plain": [
       "[(432,)]"
      ]
     },
     "execution_count": 33,
     "metadata": {},
     "output_type": "execute_result"
    }
   ],
   "source": [
    "#7.try to filter a record where col3 value will be 4\n",
    "\n",
    "query_filter='''select count(*) from cardataset.car where col3=4'''\n",
    "\n",
    "cursor.execute(query_filter)\n",
    "cursor.fetchall()"
   ]
  },
  {
   "cell_type": "code",
   "execution_count": 4,
   "id": "b3d20131",
   "metadata": {},
   "outputs": [
    {
     "data": {
      "text/plain": [
       "[(432,)]"
      ]
     },
     "execution_count": 4,
     "metadata": {},
     "output_type": "execute_result"
    }
   ],
   "source": [
    "#8.try to update col3 value with 8 wherever u have value equal to 2\n",
    "cursor.execute('''select count(*) from cardataset.car where col3='2' ''')\n",
    "cursor.fetchall()\n",
    "\n",
    "\n",
    "#output-[(432,)]"
   ]
  },
  {
   "cell_type": "code",
   "execution_count": 5,
   "id": "9bfa2489",
   "metadata": {},
   "outputs": [],
   "source": [
    "query_update='''update cardataset.car set col3='8' where col3='2' '''\n",
    "cursor.execute(query_update)\n",
    "mydb.commit()"
   ]
  },
  {
   "cell_type": "code",
   "execution_count": 7,
   "id": "461f6edc",
   "metadata": {},
   "outputs": [
    {
     "data": {
      "text/plain": [
       "[(432,)]"
      ]
     },
     "execution_count": 7,
     "metadata": {},
     "output_type": "execute_result"
    }
   ],
   "source": [
    "cursor.execute('''select count(*) from cardataset.car where col3='8' ''')\n",
    "cursor.fetchall()"
   ]
  },
  {
   "cell_type": "code",
   "execution_count": 9,
   "id": "fb3ac199",
   "metadata": {},
   "outputs": [],
   "source": [
    "#9.try to delete table\n",
    "\n",
    "query_delete='''drop table cardataset.car '''\n",
    "cursor.execute(query_delete)\n",
    "mydb.commit()"
   ]
  },
  {
   "cell_type": "code",
   "execution_count": 11,
   "id": "66747927",
   "metadata": {},
   "outputs": [
    {
     "data": {
      "text/plain": [
       "[]"
      ]
     },
     "execution_count": 11,
     "metadata": {},
     "output_type": "execute_result"
    }
   ],
   "source": [
    "cursor.execute('use cardataset')\n",
    "cursor.execute('show tables')\n",
    "cursor.fetchall()"
   ]
  },
  {
   "cell_type": "code",
   "execution_count": 13,
   "id": "f7b39877",
   "metadata": {},
   "outputs": [],
   "source": [
    "#10.try to delete database\n",
    "\n",
    "cursor.execute('drop database cardataset')\n",
    "mydb.commit()"
   ]
  },
  {
   "cell_type": "code",
   "execution_count": 15,
   "id": "d50bb88e",
   "metadata": {},
   "outputs": [
    {
     "data": {
      "text/plain": [
       "[('information_schema',),\n",
       " ('mysql',),\n",
       " ('performance_schema',),\n",
       " ('sys',),\n",
       " ('test',)]"
      ]
     },
     "execution_count": 15,
     "metadata": {},
     "output_type": "execute_result"
    }
   ],
   "source": [
    "cursor.execute('show databases')\n",
    "cursor.fetchall()"
   ]
  },
  {
   "cell_type": "code",
   "execution_count": null,
   "id": "28a58009",
   "metadata": {},
   "outputs": [],
   "source": []
  }
 ],
 "metadata": {
  "kernelspec": {
   "display_name": "Python 3 (ipykernel)",
   "language": "python",
   "name": "python3"
  },
  "language_info": {
   "codemirror_mode": {
    "name": "ipython",
    "version": 3
   },
   "file_extension": ".py",
   "mimetype": "text/x-python",
   "name": "python",
   "nbconvert_exporter": "python",
   "pygments_lexer": "ipython3",
   "version": "3.9.7"
  }
 },
 "nbformat": 4,
 "nbformat_minor": 5
}
